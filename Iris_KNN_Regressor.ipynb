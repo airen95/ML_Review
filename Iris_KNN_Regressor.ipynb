{
 "cells": [
  {
   "cell_type": "code",
   "execution_count": 1,
   "id": "5410bd01",
   "metadata": {},
   "outputs": [],
   "source": [
    "import pandas as pd"
   ]
  },
  {
   "cell_type": "code",
   "execution_count": 3,
   "id": "c4e7113c",
   "metadata": {},
   "outputs": [],
   "source": [
    "iris=pd.read_excel('Data/Iris.xls')"
   ]
  },
  {
   "cell_type": "code",
   "execution_count": 5,
   "id": "c07bb08d",
   "metadata": {},
   "outputs": [],
   "source": [
    "#predict petallength from petalwidth\n",
    "inputs=iris[['petalwidth']]\n",
    "outputs=iris[['petallength']]"
   ]
  },
  {
   "cell_type": "code",
   "execution_count": 8,
   "id": "0ad00204",
   "metadata": {},
   "outputs": [
    {
     "data": {
      "image/png": "[encoded data removed]",
      "text/plain": [
       "<Figure size 432x288 with 1 Axes>"
      ]
     },
     "metadata": {
      "needs_background": "light"
     },
     "output_type": "display_data"
    }
   ],
   "source": [
    "import seaborn as sns\n",
    "import matplotlib.pyplot as plt\n",
    "\n",
    "plt.scatter(inputs, outputs)\n",
    "plt.xlabel('width')\n",
    "plt.ylabel('length')\n",
    "plt.show()"
   ]
  },
  {
   "cell_type": "code",
   "execution_count": 9,
   "id": "d95ba111",
   "metadata": {},
   "outputs": [],
   "source": [
    "from sklearn.model_selection import train_test_split\n",
    "from sklearn.neighbors import KNeighborsRegressor\n",
    "x_train, x_test, y_train, y_test=train_test_split(inputs, outputs, test_size=0.2, random_state=42)"
   ]
  },
  {
   "cell_type": "code",
   "execution_count": 25,
   "id": "cf66ddca",
   "metadata": {},
   "outputs": [],
   "source": [
    "from sklearn.metrics import mean_squared_error"
   ]
  },
  {
   "cell_type": "code",
   "execution_count": 15,
   "id": "6e94db1b",
   "metadata": {},
   "outputs": [
    {
     "name": "stdout",
     "output_type": "stream",
     "text": [
      "k: 1 -> acc: 0.9103\n",
      "k: 2 -> acc: 0.9262\n",
      "k: 3 -> acc: 0.9403\n",
      "k: 4 -> acc: 0.9427\n",
      "k: 5 -> acc: 0.9464\n",
      "k: 6 -> acc: 0.9500\n",
      "k: 7 -> acc: 0.9485\n",
      "k: 8 -> acc: 0.9482\n",
      "k: 9 -> acc: 0.9486\n"
     ]
    }
   ],
   "source": [
    "lst_k=[]\n",
    "lst_acc=[]\n",
    "for k in range(1, int(y_train.shape[0]**0.5)):\n",
    "    lst_k.append(k)\n",
    "    kn_re=KNeighborsRegressor(n_neighbors=k)\n",
    "    kn_re.fit(x_train, y_train)\n",
    "    y_pred=kn_re.predict(x_test)\n",
    "    acc=kn_re.score(x_test, y_test)\n",
    "    lst_acc.append(acc)\n",
    "    print('k: %d -> acc: %0.4f' %(k,acc))    "
   ]
  },
  {
   "cell_type": "code",
   "execution_count": 18,
   "id": "6fecb8f3",
   "metadata": {},
   "outputs": [
    {
     "data": {
      "text/plain": [
       "(6, 0.9499968922866554)"
      ]
     },
     "execution_count": 18,
     "metadata": {},
     "output_type": "execute_result"
    }
   ],
   "source": [
    "vitri=lst_acc.index(max(lst_acc))\n",
    "k=lst_k[vitri]\n",
    "k, lst_acc[vitri]"
   ]
  },
  {
   "cell_type": "code",
   "execution_count": 20,
   "id": "684b5645",
   "metadata": {},
   "outputs": [
    {
     "data": {
      "image/png": "[encoded data removed]",
      "text/plain": [
       "<Figure size 432x288 with 1 Axes>"
      ]
     },
     "metadata": {
      "needs_background": "light"
     },
     "output_type": "display_data"
    }
   ],
   "source": [
    "plt.plot(lst_k,lst_acc)\n",
    "plt.show()"
   ]
  },
  {
   "cell_type": "code",
   "execution_count": 21,
   "id": "f37f98c7",
   "metadata": {},
   "outputs": [],
   "source": [
    "#choosing k=6\n",
    "model=KNeighborsRegressor(n_neighbors=6)\n",
    "model.fit(x_train, y_train)\n",
    "y_pred=model.predict(x_test)"
   ]
  },
  {
   "cell_type": "code",
   "execution_count": 23,
   "id": "469d4866",
   "metadata": {},
   "outputs": [
    {
     "data": {
      "text/plain": [
       "0.9581011061128362"
      ]
     },
     "execution_count": 23,
     "metadata": {},
     "output_type": "execute_result"
    }
   ],
   "source": [
    "model.score(x_train, y_train)"
   ]
  },
  {
   "cell_type": "code",
   "execution_count": 24,
   "id": "2111ca2a",
   "metadata": {},
   "outputs": [
    {
     "data": {
      "text/plain": [
       "0.9499968922866554"
      ]
     },
     "execution_count": 24,
     "metadata": {},
     "output_type": "execute_result"
    }
   ],
   "source": [
    "model.score(x_test, y_test)"
   ]
  },
  {
   "cell_type": "code",
   "execution_count": 26,
   "id": "769bf29b",
   "metadata": {},
   "outputs": [
    {
     "data": {
      "text/plain": [
       "0.16387962962962974"
      ]
     },
     "execution_count": 26,
     "metadata": {},
     "output_type": "execute_result"
    }
   ],
   "source": [
    "mean_squared_error(y_test, y_pred)"
   ]
  },
  {
   "cell_type": "code",
   "execution_count": 32,
   "id": "0a64dade",
   "metadata": {},
   "outputs": [
    {
     "data": {
      "text/html": [
       "<div>\n",
       "<style scoped>\n",
       "    .dataframe tbody tr th:only-of-type {\n",
       "        vertical-align: middle;\n",
       "    }\n",
       "\n",
       "    .dataframe tbody tr th {\n",
       "        vertical-align: top;\n",
       "    }\n",
       "\n",
       "    .dataframe thead th {\n",
       "        text-align: right;\n",
       "    }\n",
       "</style>\n",
       "<table border=\"1\" class=\"dataframe\">\n",
       "  <thead>\n",
       "    <tr style=\"text-align: right;\">\n",
       "      <th></th>\n",
       "      <th>Actual</th>\n",
       "      <th>Predict</th>\n",
       "    </tr>\n",
       "  </thead>\n",
       "  <tbody>\n",
       "    <tr>\n",
       "      <th>0</th>\n",
       "      <td>4.7</td>\n",
       "      <td>3.900000</td>\n",
       "    </tr>\n",
       "    <tr>\n",
       "      <th>1</th>\n",
       "      <td>1.7</td>\n",
       "      <td>1.366667</td>\n",
       "    </tr>\n",
       "    <tr>\n",
       "      <th>2</th>\n",
       "      <td>6.9</td>\n",
       "      <td>5.716667</td>\n",
       "    </tr>\n",
       "    <tr>\n",
       "      <th>3</th>\n",
       "      <td>4.5</td>\n",
       "      <td>4.633333</td>\n",
       "    </tr>\n",
       "    <tr>\n",
       "      <th>4</th>\n",
       "      <td>4.8</td>\n",
       "      <td>4.600000</td>\n",
       "    </tr>\n",
       "    <tr>\n",
       "      <th>5</th>\n",
       "      <td>1.5</td>\n",
       "      <td>1.600000</td>\n",
       "    </tr>\n",
       "    <tr>\n",
       "      <th>6</th>\n",
       "      <td>3.6</td>\n",
       "      <td>4.166667</td>\n",
       "    </tr>\n",
       "    <tr>\n",
       "      <th>7</th>\n",
       "      <td>5.1</td>\n",
       "      <td>5.716667</td>\n",
       "    </tr>\n",
       "    <tr>\n",
       "      <th>8</th>\n",
       "      <td>4.5</td>\n",
       "      <td>4.633333</td>\n",
       "    </tr>\n",
       "    <tr>\n",
       "      <th>9</th>\n",
       "      <td>3.9</td>\n",
       "      <td>3.900000</td>\n",
       "    </tr>\n",
       "  </tbody>\n",
       "</table>\n",
       "</div>"
      ],
      "text/plain": [
       "   Actual   Predict\n",
       "0     4.7  3.900000\n",
       "1     1.7  1.366667\n",
       "2     6.9  5.716667\n",
       "3     4.5  4.633333\n",
       "4     4.8  4.600000\n",
       "5     1.5  1.600000\n",
       "6     3.6  4.166667\n",
       "7     5.1  5.716667\n",
       "8     4.5  4.633333\n",
       "9     3.9  3.900000"
      ]
     },
     "execution_count": 32,
     "metadata": {},
     "output_type": "execute_result"
    }
   ],
   "source": [
    "#listing redult\n",
    "df=pd.DataFrame({'Actual':pd.DataFrame(y_test.values)[0].values, 'Predict':pd.DataFrame(y_pred)[0]})\n",
    "df.head(10)"
   ]
  },
  {
   "cell_type": "code",
   "execution_count": 33,
   "id": "4cd17fe8",
   "metadata": {},
   "outputs": [
    {
     "data": {
      "text/plain": [
       "array([[1.38333333]])"
      ]
     },
     "execution_count": 33,
     "metadata": {},
     "output_type": "execute_result"
    }
   ],
   "source": [
    "x_now=[[0.25]]\n",
    "y_now=model.predict(x_now)\n",
    "y_now"
   ]
  },
  {
   "cell_type": "code",
   "execution_count": null,
   "id": "d2fafc0c",
   "metadata": {},
   "outputs": [],
   "source": []
  }
 ],
 "metadata": {
  "kernelspec": {
   "display_name": "Python 3",
   "language": "python",
   "name": "python3"
  },
  "language_info": {
   "codemirror_mode": {
    "name": "ipython",
    "version": 3
   },
   "file_extension": ".py",
   "mimetype": "text/x-python",
   "name": "python",
   "nbconvert_exporter": "python",
   "pygments_lexer": "ipython3",
   "version": "3.6.9"
  }
 },
 "nbformat": 4,
 "nbformat_minor": 5
}
